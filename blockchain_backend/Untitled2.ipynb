{
 "cells": [
  {
   "cell_type": "code",
   "execution_count": null,
   "metadata": {},
   "outputs": [
    {
     "name": "stdout",
     "output_type": "stream",
     "text": [
      " * Serving Flask app \"__main__\" (lazy loading)\n",
      " * Environment: production\n",
      "\u001b[31m   WARNING: This is a development server. Do not use it in a production deployment.\u001b[0m\n",
      "\u001b[2m   Use a production WSGI server instead.\u001b[0m\n",
      " * Debug mode: off\n"
     ]
    },
    {
     "name": "stderr",
     "output_type": "stream",
     "text": [
      " * Running on http://127.0.0.1:5002/ (Press CTRL+C to quit)\n",
      "127.0.0.1 - - [09/Nov/2022 17:06:03] \"\u001b[37mOPTIONS /data HTTP/1.1\u001b[0m\" 200 -\n",
      "127.0.0.1 - - [09/Nov/2022 17:06:15] \"\u001b[37mOPTIONS /data HTTP/1.1\u001b[0m\" 200 -\n",
      "[2022-11-09 17:06:27,140] ERROR in app: Exception on /data [POST]\n",
      "Traceback (most recent call last):\n",
      "  File \"/Users/vincent/opt/anaconda3/lib/python3.8/site-packages/flask/app.py\", line 2447, in wsgi_app\n",
      "    response = self.full_dispatch_request()\n",
      "  File \"/Users/vincent/opt/anaconda3/lib/python3.8/site-packages/flask/app.py\", line 1952, in full_dispatch_request\n",
      "    rv = self.handle_user_exception(e)\n",
      "  File \"/Users/vincent/opt/anaconda3/lib/python3.8/site-packages/flask/app.py\", line 1821, in handle_user_exception\n",
      "    reraise(exc_type, exc_value, tb)\n",
      "  File \"/Users/vincent/opt/anaconda3/lib/python3.8/site-packages/flask/_compat.py\", line 39, in reraise\n",
      "    raise value\n",
      "  File \"/Users/vincent/opt/anaconda3/lib/python3.8/site-packages/flask/app.py\", line 1950, in full_dispatch_request\n",
      "    rv = self.dispatch_request()\n",
      "  File \"/Users/vincent/opt/anaconda3/lib/python3.8/site-packages/flask/app.py\", line 1936, in dispatch_request\n",
      "    return self.view_functions[rule.endpoint](**req.view_args)\n",
      "  File \"<ipython-input-22-c01eab2b004d>\", line 24, in add\n",
      "    result = {'id':request.json['id'], 'verifyBy': '', 'onChainTime': '', 'verifyTime':''}\n",
      "TypeError: 'NoneType' object is not subscriptable\n",
      "127.0.0.1 - - [09/Nov/2022 17:06:27] \"\u001b[35m\u001b[1mPOST /data HTTP/1.1\u001b[0m\" 500 -\n"
     ]
    },
    {
     "name": "stdout",
     "output_type": "stream",
     "text": [
      "null\n"
     ]
    },
    {
     "name": "stderr",
     "output_type": "stream",
     "text": [
      "[2022-11-09 17:07:16,303] ERROR in app: Exception on /data [POST]\n",
      "Traceback (most recent call last):\n",
      "  File \"/Users/vincent/opt/anaconda3/lib/python3.8/site-packages/flask/app.py\", line 2447, in wsgi_app\n",
      "    response = self.full_dispatch_request()\n",
      "  File \"/Users/vincent/opt/anaconda3/lib/python3.8/site-packages/flask/app.py\", line 1952, in full_dispatch_request\n",
      "    rv = self.handle_user_exception(e)\n",
      "  File \"/Users/vincent/opt/anaconda3/lib/python3.8/site-packages/flask/app.py\", line 1821, in handle_user_exception\n",
      "    reraise(exc_type, exc_value, tb)\n",
      "  File \"/Users/vincent/opt/anaconda3/lib/python3.8/site-packages/flask/_compat.py\", line 39, in reraise\n",
      "    raise value\n",
      "  File \"/Users/vincent/opt/anaconda3/lib/python3.8/site-packages/flask/app.py\", line 1950, in full_dispatch_request\n",
      "    rv = self.dispatch_request()\n",
      "  File \"/Users/vincent/opt/anaconda3/lib/python3.8/site-packages/flask/app.py\", line 1936, in dispatch_request\n",
      "    return self.view_functions[rule.endpoint](**req.view_args)\n",
      "  File \"<ipython-input-22-c01eab2b004d>\", line 24, in add\n",
      "    result = {'id':request.json['id'], 'verifyBy': '', 'onChainTime': '', 'verifyTime':''}\n",
      "TypeError: 'NoneType' object is not subscriptable\n",
      "127.0.0.1 - - [09/Nov/2022 17:07:16] \"\u001b[35m\u001b[1mPOST /data HTTP/1.1\u001b[0m\" 500 -\n"
     ]
    },
    {
     "name": "stdout",
     "output_type": "stream",
     "text": [
      "null\n"
     ]
    },
    {
     "name": "stderr",
     "output_type": "stream",
     "text": [
      "127.0.0.1 - - [09/Nov/2022 17:08:46] \"\u001b[37mOPTIONS /data HTTP/1.1\u001b[0m\" 200 -\n"
     ]
    }
   ],
   "source": [
    "from flask import Flask, request, jsonify\n",
    "import json\n",
    "app = Flask(__name__)\n",
    "id_data = []\n",
    "@app.route('/data', methods=['POST'])\n",
    "def add():\n",
    "    #print(request.headers)\n",
    "    #print(request.json)\n",
    "    data = json.dumps(request.json)\n",
    "    print(data)\n",
    "    if 'verifyBy'in data:\n",
    "        result = {'id':request.json['id'], 'verifyBy': request.json['verifyBy'], 'onChainTime': request.json['onChainTime'], 'verifyTime':request.json['verifyTime']}\n",
    "        for i in range(0, len(id_data)):\n",
    "            if (id_data[i]['id'] == request.json['id']):\n",
    "                id_data[i] = result\n",
    "                return jsonify(result);\n",
    "        id_data.append(result)\n",
    "        return jsonify(result)\n",
    "    else:\n",
    "        for d in id_data:\n",
    "            print(type(d['id']), type(request.json['id']))\n",
    "            if (d['id'] == request.json['id']):\n",
    "                return d;\n",
    "        result = {'id':request.json['id'], 'verifyBy': '', 'onChainTime': '', 'verifyTime':''}\n",
    "        return jsonify(result)\n",
    "\n",
    "if __name__ == '__main__':\n",
    "    app.run(port=5002)"
   ]
  },
  {
   "cell_type": "code",
   "execution_count": null,
   "metadata": {},
   "outputs": [],
   "source": []
  }
 ],
 "metadata": {
  "kernelspec": {
   "display_name": "Python 3",
   "language": "python",
   "name": "python3"
  },
  "language_info": {
   "codemirror_mode": {
    "name": "ipython",
    "version": 3
   },
   "file_extension": ".py",
   "mimetype": "text/x-python",
   "name": "python",
   "nbconvert_exporter": "python",
   "pygments_lexer": "ipython3",
   "version": "3.8.5"
  }
 },
 "nbformat": 4,
 "nbformat_minor": 4
}
